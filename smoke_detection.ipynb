{
 "cells": [
  {
   "cell_type": "code",
   "execution_count": 10,
   "id": "774331c5-248f-4b44-bf4b-576995961f2e",
   "metadata": {},
   "outputs": [],
   "source": [
    "import os\n",
    "import cv2\n",
    "import numpy as np\n",
    "from sklearn.model_selection import train_test_split\n",
    "from tensorflow.keras.utils import to_categorical\n",
    "from tensorflow.keras.models import Sequential\n",
    "from tensorflow.keras.layers import Conv2D, MaxPooling2D, Flatten, Dense, Dropout\n"
   ]
  },
  {
   "cell_type": "code",
   "execution_count": 17,
   "id": "adda9685-40e5-47bc-b885-3531c34147ce",
   "metadata": {},
   "outputs": [],
   "source": [
    "training_data = [r\"C:\\Users\\avani\\OneDrive\\Desktop\\somke\\smoke\",\n",
    "                 r\"C:\\Users\\avani\\OneDrive\\Desktop\\somke\\non-smoke\"]\n"
   ]
  },
  {
   "cell_type": "code",
   "execution_count": 18,
   "id": "83aacf3f-98ec-4b00-8df9-5de112dc908e",
   "metadata": {},
   "outputs": [],
   "source": [
    "def load_images(data_dirs):\n",
    "    images = []  # Initialize empty list to store the images\n",
    "    labels = []  # Initialize empty list to store the labels\n",
    "\n",
    "    for i, folder in enumerate(data_dirs):\n",
    "        label = i  # Assign a label for the class (0 for smoke, 1 for non-smoke)\n",
    "        for filename in os.listdir(folder):\n",
    "            try:\n",
    "                img_path = os.path.join(folder, filename)\n",
    "                img = cv2.imread(img_path, cv2.IMREAD_GRAYSCALE)  # Read the image file in grayscale\n",
    "                if img is not None:\n",
    "                    img = cv2.resize(img, (48, 48))  # Resize the image to 48x48 pixels\n",
    "                    images.append(img)\n",
    "                    labels.append(label)\n",
    "                else:\n",
    "                    print(f\"Error loading image: {img_path}: Image not found or corrupted\")\n",
    "            except Exception as e:\n",
    "                print(f\"Error loading image: {os.path.join(folder, filename)}: {str(e)}\")\n",
    "\n",
    "    return np.array(images), np.array(labels)  # Return the images and labels as numpy arrays\n"
   ]
  },
  {
   "cell_type": "code",
   "execution_count": 19,
   "id": "c67d8a78-a1cb-4a8b-9a90-122cbb976ae3",
   "metadata": {},
   "outputs": [],
   "source": [
    "# Load and preprocess the image data\n",
    "images, labels = load_images(training_data)\n",
    "x_train, x_test, y_train, y_test = train_test_split(images, labels, test_size=0.2, random_state=42)  # Split the data into training and testing sets\n",
    "x_train = x_train.reshape(x_train.shape[0], 48, 48, 1).astype('float32') / 255  # Reshape and normalize the data\n",
    "x_test = x_test.reshape(x_test.shape[0], 48, 48, 1).astype('float32') / 255\n"
   ]
  },
  {
   "cell_type": "code",
   "execution_count": 20,
   "id": "9115ac40-2e0b-4564-8ea1-c27247e075d7",
   "metadata": {},
   "outputs": [
    {
     "name": "stdout",
     "output_type": "stream",
     "text": [
      "Epoch 1/10\n",
      "\u001b[1m7/7\u001b[0m \u001b[32m━━━━━━━━━━━━━━━━━━━━\u001b[0m\u001b[37m\u001b[0m \u001b[1m5s\u001b[0m 223ms/step - accuracy: 0.4540 - loss: 0.9519 - val_accuracy: 0.9200 - val_loss: 0.4823\n",
      "Epoch 2/10\n",
      "\u001b[1m7/7\u001b[0m \u001b[32m━━━━━━━━━━━━━━━━━━━━\u001b[0m\u001b[37m\u001b[0m \u001b[1m1s\u001b[0m 152ms/step - accuracy: 0.8685 - loss: 0.4561 - val_accuracy: 0.9600 - val_loss: 0.2394\n",
      "Epoch 3/10\n",
      "\u001b[1m7/7\u001b[0m \u001b[32m━━━━━━━━━━━━━━━━━━━━\u001b[0m\u001b[37m\u001b[0m \u001b[1m1s\u001b[0m 153ms/step - accuracy: 0.9227 - loss: 0.3048 - val_accuracy: 0.9600 - val_loss: 0.1356\n",
      "Epoch 4/10\n",
      "\u001b[1m7/7\u001b[0m \u001b[32m━━━━━━━━━━━━━━━━━━━━\u001b[0m\u001b[37m\u001b[0m \u001b[1m1s\u001b[0m 145ms/step - accuracy: 0.9534 - loss: 0.1762 - val_accuracy: 0.9800 - val_loss: 0.0633\n",
      "Epoch 5/10\n",
      "\u001b[1m7/7\u001b[0m \u001b[32m━━━━━━━━━━━━━━━━━━━━\u001b[0m\u001b[37m\u001b[0m \u001b[1m2s\u001b[0m 183ms/step - accuracy: 0.9650 - loss: 0.0965 - val_accuracy: 0.9800 - val_loss: 0.0668\n",
      "Epoch 6/10\n",
      "\u001b[1m7/7\u001b[0m \u001b[32m━━━━━━━━━━━━━━━━━━━━\u001b[0m\u001b[37m\u001b[0m \u001b[1m1s\u001b[0m 160ms/step - accuracy: 0.9735 - loss: 0.0690 - val_accuracy: 1.0000 - val_loss: 0.0179\n",
      "Epoch 7/10\n",
      "\u001b[1m7/7\u001b[0m \u001b[32m━━━━━━━━━━━━━━━━━━━━\u001b[0m\u001b[37m\u001b[0m \u001b[1m1s\u001b[0m 151ms/step - accuracy: 0.9733 - loss: 0.0650 - val_accuracy: 1.0000 - val_loss: 0.0592\n",
      "Epoch 8/10\n",
      "\u001b[1m7/7\u001b[0m \u001b[32m━━━━━━━━━━━━━━━━━━━━\u001b[0m\u001b[37m\u001b[0m \u001b[1m1s\u001b[0m 153ms/step - accuracy: 0.9739 - loss: 0.0651 - val_accuracy: 0.9800 - val_loss: 0.0804\n",
      "Epoch 9/10\n",
      "\u001b[1m7/7\u001b[0m \u001b[32m━━━━━━━━━━━━━━━━━━━━\u001b[0m\u001b[37m\u001b[0m \u001b[1m1s\u001b[0m 140ms/step - accuracy: 1.0000 - loss: 0.0453 - val_accuracy: 1.0000 - val_loss: 0.0239\n",
      "Epoch 10/10\n",
      "\u001b[1m7/7\u001b[0m \u001b[32m━━━━━━━━━━━━━━━━━━━━\u001b[0m\u001b[37m\u001b[0m \u001b[1m1s\u001b[0m 165ms/step - accuracy: 0.9963 - loss: 0.0261 - val_accuracy: 1.0000 - val_loss: 0.0072\n"
     ]
    }
   ],
   "source": [
    "def load_images(data_dir):\n",
    "    images = []  # Initialize empty list to store the images\n",
    "    labels = []  # Initialize empty list to store the labels\n",
    "\n",
    "    for i in range(len(training_data)):\n",
    "        folder = training_data[i]  # Get the folder of the images\n",
    "        label = i  # Get the label of the images\n",
    "        for filename in os.listdir(folder):\n",
    "            try:\n",
    "                img = cv2.imread(os.path.join(folder, filename), cv2.IMREAD_GRAYSCALE)  # Read the image file\n",
    "                if img is not None:  # Ensure the image is loaded\n",
    "                    img = cv2.resize(img, (48, 48))  # Resize the image\n",
    "                    images.append(img)  # Append the image\n",
    "                    labels.append(label)  # Append the label\n",
    "                else:\n",
    "                    print(f\"Error loading image: {os.path.join(folder, filename)}: Image not found or corrupted\")\n",
    "            except Exception as e:\n",
    "                print(f\"Error loading image: {os.path.join(folder, filename)}: {str(e)}\")\n",
    "\n",
    "    return np.array(images), np.array(labels)  # Return the images and labels as numpy arrays\n",
    "\n",
    "images, labels = load_images(training_data)\n",
    "x_train, x_test, y_train, y_test = train_test_split(images, labels, test_size=0.2, random_state=42)  # Split the data into training and testing sets\n",
    "x_train = x_train.reshape(x_train.shape[0], 48, 48, 1).astype('float32') / 255  # Reshape the data and normalize\n",
    "x_test = x_test.reshape(x_test.shape[0], 48, 48, 1).astype('float32') / 255\n",
    "\n",
    "y_train = to_categorical(y_train)  # Convert the labels to categorical\n",
    "y_test = to_categorical(y_test)\n",
    "\n",
    "model = Sequential()  # Initialize the model\n",
    "model.add(Conv2D(32, kernel_size=(3, 3), activation='relu', input_shape=(48, 48, 1)))  # Add the first convolution layer\n",
    "model.add(Conv2D(64, kernel_size=(3, 3), activation='relu'))  # Add the second convolution layer\n",
    "\n",
    "model.add(MaxPooling2D(pool_size=(2, 2)))  # Add the first pooling layer\n",
    "\n",
    "model.add(Dropout(0.25))  # Add the first dropout layer\n",
    "model.add(Flatten())  # Add the flatten layer\n",
    "model.add(Dense(128, activation='relu'))  # Add the first dense layer\n",
    "model.add(Dropout(0.5))  # Add the second dropout layer\n",
    "model.add(Dense(2, activation='softmax'))  # Add the output layer\n",
    "\n",
    "model.compile(loss='categorical_crossentropy', optimizer='adam', metrics=['accuracy'])  # Compile the model\n",
    "model.fit(x_train, y_train, batch_size=32, epochs=10, verbose=1, validation_data=(x_test, y_test))  # Fit the model\n",
    "\n",
    "# Save the model in the recommended .keras format\n",
    "model.save('fire_detection_model.keras')"
   ]
  },
  {
   "cell_type": "code",
   "execution_count": 26,
   "id": "4eb0b8e6-e934-4760-ad38-9dc348b9318e",
   "metadata": {},
   "outputs": [
    {
     "name": "stdout",
     "output_type": "stream",
     "text": [
      "WARNING:tensorflow:5 out of the last 5 calls to <function TensorFlowTrainer.make_predict_function.<locals>.one_step_on_data_distributed at 0x0000025507A1CAE0> triggered tf.function retracing. Tracing is expensive and the excessive number of tracings could be due to (1) creating @tf.function repeatedly in a loop, (2) passing tensors with different shapes, (3) passing Python objects instead of tensors. For (1), please define your @tf.function outside of the loop. For (2), @tf.function has reduce_retracing=True option that can avoid unnecessary retracing. For (3), please refer to https://www.tensorflow.org/guide/function#controlling_retracing and https://www.tensorflow.org/api_docs/python/tf/function for  more details.\n",
      "\u001b[1m1/1\u001b[0m \u001b[32m━━━━━━━━━━━━━━━━━━━━\u001b[0m\u001b[37m\u001b[0m \u001b[1m0s\u001b[0m 156ms/step\n",
      "The image at C:\\Users\\avani\\OneDrive\\Pictures\\image_27.jpg is predicted as: Non-Smoke\n"
     ]
    }
   ],
   "source": [
    "import os\n",
    "import cv2\n",
    "import numpy as np\n",
    "from tensorflow.keras.models import load_model\n",
    "\n",
    "# Load the trained model\n",
    "model = load_model('fire_detection_model.keras')\n",
    "\n",
    "def preprocess_image(image_path):\n",
    "    \"\"\"Preprocess the image to the required format.\"\"\"\n",
    "    img = cv2.imread(image_path, cv2.IMREAD_GRAYSCALE)\n",
    "    if img is None:\n",
    "        raise ValueError(f\"Image at {image_path} could not be loaded.\")\n",
    "    img = cv2.resize(img, (48, 48))\n",
    "    img = img.astype('float32') / 255\n",
    "    img = np.expand_dims(img, axis=-1)  # Add channel dimension\n",
    "    img = np.expand_dims(img, axis=0)   # Add batch dimension\n",
    "    return img\n",
    "\n",
    "def predict_smoke(image_path):\n",
    "    \"\"\"Predict whether the image contains smoke or not.\"\"\"\n",
    "    try:\n",
    "        img = preprocess_image(image_path)\n",
    "        prediction = model.predict(img)\n",
    "        class_idx = np.argmax(prediction, axis=1)[0]\n",
    "        class_label = 'Smoke' if class_idx == 0 else 'Non-Smoke'\n",
    "        print(f\"The image at {image_path} is predicted as: {class_label}\")\n",
    "    except ValueError as e:\n",
    "        print(str(e))\n",
    "\n",
    "# Example usage with a new image\n",
    "new_image_path = r\"C:\\Users\\avani\\OneDrive\\Pictures\\image_27.jpg\"  # Replace with your new image path\n",
    "predict_smoke(new_image_path)\n"
   ]
  },
  {
   "cell_type": "code",
   "execution_count": 24,
   "id": "faf3641d-ca99-4a38-8fc6-510d0e868c4c",
   "metadata": {},
   "outputs": [
    {
     "name": "stdout",
     "output_type": "stream",
     "text": [
      "Test Accuracy: 1.0000\n"
     ]
    }
   ],
   "source": [
    "# Evaluate the model on the test data\n",
    "loss, accuracy = model.evaluate(x_test, y_test, verbose=0)\n",
    "print(f\"Test Accuracy: {accuracy:.4f}\")\n"
   ]
  },
  {
   "cell_type": "code",
   "execution_count": null,
   "id": "0ed23fda-b8e6-450f-a5ea-ff040bf205bb",
   "metadata": {},
   "outputs": [],
   "source": []
  }
 ],
 "metadata": {
  "kernelspec": {
   "display_name": "Python 3 (ipykernel)",
   "language": "python",
   "name": "python3"
  },
  "language_info": {
   "codemirror_mode": {
    "name": "ipython",
    "version": 3
   },
   "file_extension": ".py",
   "mimetype": "text/x-python",
   "name": "python",
   "nbconvert_exporter": "python",
   "pygments_lexer": "ipython3",
   "version": "3.12.1"
  }
 },
 "nbformat": 4,
 "nbformat_minor": 5
}
